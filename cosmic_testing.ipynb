{
 "cells": [
  {
   "cell_type": "markdown",
   "metadata": {},
   "source": [
    "## WELCOME TO COSMIC"
   ]
  },
  {
   "cell_type": "markdown",
   "metadata": {
    "id": "-_6NHGfmaIA6"
   },
   "source": [
    "\n",
    "\n",
    "***What is COSMIC, and what can I use it for?***\n",
    "\n",
    "[COSMIC](https://cosmic-popsynth.github.io/docs/stable/index.html) (Compact Object Synthesis and Monte Carlo Investigation Code) is a rapid binary population synthesis code. This means that it models the evolution of binaries with given properties. You can use COSMIC to generate synthetic populations of binaries and study their properties once they evolve. \n",
    "\n"
   ]
  },
  {
   "cell_type": "markdown",
   "metadata": {
    "id": "LA3dP4QY513n"
   },
   "source": [
    "# **Installing COSMIC**\n"
   ]
  },
  {
   "cell_type": "markdown",
   "metadata": {
    "id": "HNd-agybZ1vE"
   },
   "source": [
    "First, you need to install cosmic. For this turorial, we will just pip install it in this jupyter notebook. If after this tutorial you decide to use COSMIC, feel free to install it inn your computer following the installation instructions [here](https://cosmic-popsynth.github.io/docs/stable/install/index.html#)."
   ]
  },
  {
   "cell_type": "code",
   "execution_count": 2,
   "metadata": {
    "colab": {
     "base_uri": "https://localhost:8080/"
    },
    "id": "h6_tKq3baBW5",
    "outputId": "bdffe38d-7e5a-4ec4-ccf8-50b162a54f62",
    "scrolled": true
   },
   "outputs": [
    {
     "name": "stdout",
     "output_type": "stream",
     "text": [
      "Requirement already satisfied: cosmic-popsynth in /Users/elenagonzalez/miniconda3/lib/python3.8/site-packages (3.4.7)\n",
      "Requirement already satisfied: astropy>=1.1.1 in /Users/elenagonzalez/miniconda3/lib/python3.8/site-packages (from cosmic-popsynth) (5.0.1)\n",
      "Requirement already satisfied: importlib-metadata<5.0 in /Users/elenagonzalez/miniconda3/lib/python3.8/site-packages (from cosmic-popsynth) (4.10.1)\n",
      "Requirement already satisfied: tables>3.5.0 in /Users/elenagonzalez/miniconda3/lib/python3.8/site-packages (from cosmic-popsynth) (3.7.0)\n",
      "Requirement already satisfied: configparser in /Users/elenagonzalez/miniconda3/lib/python3.8/site-packages (from cosmic-popsynth) (5.3.0)\n",
      "Requirement already satisfied: matplotlib>=2.0.0 in /Users/elenagonzalez/miniconda3/lib/python3.8/site-packages (from cosmic-popsynth) (3.2.2)\n",
      "Requirement already satisfied: numpy>=1.16 in /Users/elenagonzalez/miniconda3/lib/python3.8/site-packages (from cosmic-popsynth) (1.23.4)\n",
      "Requirement already satisfied: tqdm>=4.0 in /Users/elenagonzalez/miniconda3/lib/python3.8/site-packages (from cosmic-popsynth) (4.61.2)\n",
      "Requirement already satisfied: scipy>=0.12.1 in /Users/elenagonzalez/miniconda3/lib/python3.8/site-packages (from cosmic-popsynth) (1.8.0)\n",
      "Requirement already satisfied: pandas>=0.24 in /Users/elenagonzalez/miniconda3/lib/python3.8/site-packages (from cosmic-popsynth) (1.5.0)\n",
      "Requirement already satisfied: h5py>=1.3 in /Users/elenagonzalez/miniconda3/lib/python3.8/site-packages (from cosmic-popsynth) (3.7.0)\n",
      "Requirement already satisfied: schwimmbad>=0.3.1 in /Users/elenagonzalez/miniconda3/lib/python3.8/site-packages (from cosmic-popsynth) (0.3.2)\n",
      "Requirement already satisfied: pyerfa>=2.0 in /Users/elenagonzalez/miniconda3/lib/python3.8/site-packages (from astropy>=1.1.1->cosmic-popsynth) (2.0.0.1)\n",
      "Requirement already satisfied: packaging>=19.0 in /Users/elenagonzalez/miniconda3/lib/python3.8/site-packages (from astropy>=1.1.1->cosmic-popsynth) (21.3)\n",
      "Requirement already satisfied: PyYAML>=3.13 in /Users/elenagonzalez/miniconda3/lib/python3.8/site-packages (from astropy>=1.1.1->cosmic-popsynth) (6.0)\n",
      "Requirement already satisfied: zipp>=0.5 in /Users/elenagonzalez/miniconda3/lib/python3.8/site-packages (from importlib-metadata<5.0->cosmic-popsynth) (3.7.0)\n",
      "Requirement already satisfied: kiwisolver>=1.0.1 in /Users/elenagonzalez/miniconda3/lib/python3.8/site-packages (from matplotlib>=2.0.0->cosmic-popsynth) (1.3.1)\n",
      "Requirement already satisfied: pyparsing!=2.0.4,!=2.1.2,!=2.1.6,>=2.0.1 in /Users/elenagonzalez/miniconda3/lib/python3.8/site-packages (from matplotlib>=2.0.0->cosmic-popsynth) (3.0.7)\n",
      "Requirement already satisfied: python-dateutil>=2.1 in /Users/elenagonzalez/miniconda3/lib/python3.8/site-packages (from matplotlib>=2.0.0->cosmic-popsynth) (2.8.2)\n",
      "Requirement already satisfied: cycler>=0.10 in /Users/elenagonzalez/miniconda3/lib/python3.8/site-packages (from matplotlib>=2.0.0->cosmic-popsynth) (0.11.0)\n",
      "Requirement already satisfied: pytz>=2020.1 in /Users/elenagonzalez/miniconda3/lib/python3.8/site-packages (from pandas>=0.24->cosmic-popsynth) (2022.4)\n",
      "Requirement already satisfied: six>=1.5 in /Users/elenagonzalez/miniconda3/lib/python3.8/site-packages (from python-dateutil>=2.1->matplotlib>=2.0.0->cosmic-popsynth) (1.16.0)\n",
      "Requirement already satisfied: numexpr>=2.6.2 in /Users/elenagonzalez/miniconda3/lib/python3.8/site-packages (from tables>3.5.0->cosmic-popsynth) (2.8.3)\n"
     ]
    }
   ],
   "source": [
    "! pip install cosmic-popsynth # installing COSMIC in jupyter notebook\n",
    "pip install numpy --upgrade --ignore-installed"
   ]
  },
  {
   "cell_type": "markdown",
   "metadata": {},
   "source": [
    "# How to generate a  COSMIC binary"
   ]
  },
  {
   "cell_type": "markdown",
   "metadata": {
    "id": "EVvE6HPmB00m"
   },
   "source": [
    "Let's import cosmic and all of its pertaining modules. Cosmic has built-in functions that we want to use, which are imported in the cell below. The `InitialBinaryTable` function is used to generate a table of the initial parameters of your binary. \n",
    "\n",
    " \n",
    "\n"
   ]
  },
  {
   "cell_type": "code",
   "execution_count": 3,
   "metadata": {
    "id": "ygORs_K7dySX",
    "scrolled": true
   },
   "outputs": [],
   "source": [
    "# pip install numpy --upgrade --ignore-installed #you may have the wrong version of numpy\n",
    "import cosmic\n",
    "import cosmic.sample.initialbinarytable\n",
    "from cosmic.sample.initialbinarytable import InitialBinaryTable"
   ]
  },
  {
   "cell_type": "markdown",
   "metadata": {
    "id": "Loj1qcHheL_5"
   },
   "source": [
    "To test that is working perfectly, the following cell initiates a binary with random properties(mass, separation, stellar type, etc).\n"
   ]
  },
  {
   "cell_type": "code",
   "execution_count": 4,
   "metadata": {
    "colab": {
     "base_uri": "https://localhost:8080/"
    },
    "id": "MIMAURBXejDb",
    "outputId": "93e67c25-0564-4da7-df1e-2477f63d5f48"
   },
   "outputs": [
    {
     "name": "stdout",
     "output_type": "stream",
     "text": [
      "   kstar_1  kstar_2     mass_1    mass_2        porb       ecc  metallicity  \\\n",
      "0      1.0      1.0  85.543645  84.99784  446.795757  0.448872        0.002   \n",
      "\n",
      "    tphysf    mass0_1   mass0_2  ...  tacc_1  tacc_2  epoch_1  epoch_2  tms_1  \\\n",
      "0  13700.0  85.543645  84.99784  ...     0.0     0.0      0.0      0.0    0.0   \n",
      "\n",
      "   tms_2  bhspin_1  bhspin_2  tphys  binfrac  \n",
      "0    0.0       0.0       0.0    0.0      1.0  \n",
      "\n",
      "[1 rows x 38 columns]\n",
      "Index(['kstar_1', 'kstar_2', 'mass_1', 'mass_2', 'porb', 'ecc', 'metallicity',\n",
      "       'tphysf', 'mass0_1', 'mass0_2', 'rad_1', 'rad_2', 'lum_1', 'lum_2',\n",
      "       'massc_1', 'massc_2', 'radc_1', 'radc_2', 'menv_1', 'menv_2', 'renv_1',\n",
      "       'renv_2', 'omega_spin_1', 'omega_spin_2', 'B_1', 'B_2', 'bacc_1',\n",
      "       'bacc_2', 'tacc_1', 'tacc_2', 'epoch_1', 'epoch_2', 'tms_1', 'tms_2',\n",
      "       'bhspin_1', 'bhspin_2', 'tphys', 'binfrac'],\n",
      "      dtype='object')\n"
     ]
    }
   ],
   "source": [
    "single_binary = InitialBinaryTable.InitialBinaries(m1=85.543645, m2=84.99784, porb=446.795757, ecc=0.448872, tphysf=13700.0, kstar1=1, kstar2=1, metallicity=0.002)\n",
    "\n",
    "print(single_binary) #this will print the properties of the binary\n",
    "print(single_binary.columns) #this will print the header of the table\n"
   ]
  },
  {
   "cell_type": "markdown",
   "metadata": {
    "id": "CpSGkgdMevoy"
   },
   "source": [
    "The most relevant properties for this tutorial are listed below. If you are interested in the other parameters, please check them out [here](https://cosmic-popsynth.github.io/docs/stable/output_info/index.html#evolutionary-states-of-stars-binaries)\n",
    "\n",
    "*   *Kstar:*       Evolutionary stage of the star\n",
    "*   *Mass:*        Initial mass of the star ($M_{\\odot}$)\n",
    "*   *Porb:*        Initial orbital period (days)\n",
    "*   *Ecc:*         Initial eccentricity\n",
    "*   *Metallicity:* Metallicity of the population ($Z_{\\odot}$)\n",
    "*   *Tphysf:*      Total evolution time (Myr)\n",
    "*   *Sep:*         Semimajor axis ($R_{\\odot}$)"
   ]
  },
  {
   "cell_type": "markdown",
   "metadata": {
    "id": "cprPaMOlGsCp"
   },
   "source": [
    "# **How to evolving binaries with COSMIC**"
   ]
  },
  {
   "cell_type": "markdown",
   "metadata": {
    "id": "xyoAKkkTHIZG"
   },
   "source": [
    "Now that you know how to create the initial conditions for binaries, you can try to evolve them over time and see what they do! To do this, we will need to use a built-in COSMIC function called `Evolve`. You will also need to specify parameters for binary evolution, stored in the dictionary `BSEDict`. The `Evolve` function has four different outputs: \n",
    "\n",
    "*   *bpp :* pandas.DataFrame, tracks a selection of binary parameters at key evolutionary changes.\n",
    "*   *bcm :* This pandas.DataFrame provides several binary parameters at user-specified timesteps in the evolution (you will not use this).\n",
    "*   *initC :* this is just single_binary.\n",
    "*   *kick_info:* a (2,17) array that tracks information about supernova kicks.\n",
    "\n"
   ]
  },
  {
   "cell_type": "code",
   "execution_count": 4,
   "metadata": {
    "id": "6nO2UMr-h3ws"
   },
   "outputs": [],
   "source": [
    "import cosmic\n",
    "from cosmic.evolve import Evolve"
   ]
  },
  {
   "cell_type": "code",
   "execution_count": 5,
   "metadata": {
    "id": "rP0rxA3Eg5kV"
   },
   "outputs": [
    {
     "name": "stderr",
     "output_type": "stream",
     "text": [
      "/Users/elenagonzalez/anaconda3/lib/python3.7/site-packages/cosmic/utils.py:965: UserWarning: 'zsun' is set to a different value than assumed in the mlwind prescriptions (you set it to '0.014' and in mlwind, zsun_wind=0.019)\n",
      "  f\"'{flag:s}' is set to a different value than assumed in the mlwind \"\n"
     ]
    },
    {
     "name": "stdout",
     "output_type": "stream",
     "text": [
      "Index(['tphys', 'mass_1', 'mass_2', 'kstar_1', 'kstar_2', 'sep', 'porb', 'ecc',\n",
      "       'RRLO_1', 'RRLO_2', 'evol_type', 'aj_1', 'aj_2', 'tms_1', 'tms_2',\n",
      "       'massc_1', 'massc_2', 'rad_1', 'rad_2', 'mass0_1', 'mass0_2', 'lum_1',\n",
      "       'lum_2', 'teff_1', 'teff_2', 'radc_1', 'radc_2', 'menv_1', 'menv_2',\n",
      "       'renv_1', 'renv_2', 'omega_spin_1', 'omega_spin_2', 'B_1', 'B_2',\n",
      "       'bacc_1', 'bacc_2', 'tacc_1', 'tacc_2', 'epoch_1', 'epoch_2',\n",
      "       'bhspin_1', 'bhspin_2', 'bin_num'],\n",
      "      dtype='object')\n",
      "0    85.543645\n",
      "0    77.800488\n",
      "0    77.678377\n",
      "0    77.005990\n",
      "0    35.408051\n",
      "0    35.217578\n",
      "0    29.006705\n",
      "0    28.506705\n",
      "0    28.506716\n",
      "0    28.507923\n",
      "0    28.509163\n",
      "0    28.509163\n",
      "0    28.509163\n",
      "0    28.509163\n",
      "0    28.509172\n",
      "0    28.509172\n",
      "0    28.509172\n",
      "Name: mass_1, dtype: float64\n"
     ]
    }
   ],
   "source": [
    "#setting evolutionary parameters\n",
    "BSEDict = {'xi': 1.0, 'bhflag': 1, 'neta': 0.5, 'windflag': 3, 'wdflag': 1, 'alpha1': 1.0, 'pts1': 0.001, 'pts3': 0.02, 'pts2': 0.01, 'epsnov': 0.001, 'hewind': 0.5, 'ck': 1000, 'bwind': 0.0, 'lambdaf': 0.0, 'mxns': 3.0, 'beta': -1.0, 'tflag': 1, 'acc2': 1.5, 'grflag' : 1, 'remnantflag': 4, 'ceflag': 0, 'eddfac': 1.0, 'ifflag': 0, 'bconst': 3000, 'sigma': 265.0, 'gamma': -2.0, 'pisn': 45.0, 'natal_kick_array' : [[-100.0,-100.0,-100.0,-100.0,0.0], [-100.0,-100.0,-100.0,-100.0,0.0]], 'bhsigmafrac' : 1.0, 'polar_kick_angle' : 90, 'qcrit_array' : [0.0,0.0,0.0,0.0,0.0,0.0,0.0,0.0,0.0,0.0,0.0,0.0,0.0,0.0,0.0,0.0], 'cekickflag' : 2, 'cehestarflag' : 0, 'cemergeflag' : 0, 'ecsn' : 2.25, 'ecsn_mlow' : 1.6, 'aic' : 1, 'ussn' : 0, 'sigmadiv' :-20.0, 'qcflag' : 1, 'eddlimflag' : 0, 'fprimc_array' : [2.0/21.0,2.0/21.0,2.0/21.0,2.0/21.0,2.0/21.0,2.0/21.0,2.0/21.0,2.0/21.0,2.0/21.0,2.0/21.0,2.0/21.0,2.0/21.0,2.0/21.0,2.0/21.0,2.0/21.0,2.0/21.0], 'bhspinflag' : 0, 'bhspinmag' : 0.0, 'rejuv_fac' : 1.0, 'rejuvflag' : 0, 'htpmb' : 1, 'ST_cr' : 1, 'ST_tide' : 1, 'bdecayfac' : 1, 'rembar_massloss' : 0.5, 'kickflag' : 0, 'zsun' : 0.014, 'bhms_coll_flag' : 0, 'don_lim' : -1, 'acc_lim' : -1}\n",
    "\n",
    "#evolving the binary\n",
    "bpp, bcm, initC, kick_info = Evolve.evolve(initialbinarytable=single_binary,pool=None,BSEDict=BSEDict)\n",
    "\n",
    "#printing the columns of the bpp table\n",
    "print(bpp.columns)\n",
    "\n",
    "#printing a specific value \n",
    "print(bpp.mass_1) "
   ]
  },
  {
   "cell_type": "markdown",
   "metadata": {
    "id": "vSNJ2WC7LLL0"
   },
   "source": [
    "# **Saving COSMIC Output to csv Files**"
   ]
  },
  {
   "cell_type": "markdown",
   "metadata": {
    "id": "Rw4kmzKbhnim"
   },
   "source": [
    "We don't want to have to constantly run COSMIC, so let's save the simulation output! We are only going to need *bpp*, which is a pandas data frame. Save it to a csv file using [pd.DataFrame.to_csv](https://pandas.pydata.org/docs/reference/api/pandas.DataFrame.to_csv.html). \n",
    "\n"
   ]
  },
  {
   "cell_type": "code",
   "execution_count": 6,
   "metadata": {
    "id": "_u4ZR22Aiy_q"
   },
   "outputs": [],
   "source": [
    "import pandas as pd\n",
    "import csv\n",
    "\n",
    "#creating data frame\n",
    "df=pd.DataFrame(bpp)\n",
    "\n",
    "#saving dataframe to csv file\n",
    "df.to_csv('data.csv') "
   ]
  },
  {
   "cell_type": "markdown",
   "metadata": {
    "id": "dJUcShGbhnna"
   },
   "source": [
    "Try opening the file and accessing the data, saving some quatities into different arrays like mass1, mass2, etc. \n",
    "\n"
   ]
  },
  {
   "cell_type": "code",
   "execution_count": 7,
   "metadata": {
    "colab": {
     "base_uri": "https://localhost:8080/"
    },
    "id": "HFx-jaRhhu54",
    "outputId": "9e1503ba-81e8-4117-a97e-53b25abc7ff2"
   },
   "outputs": [
    {
     "name": "stdout",
     "output_type": "stream",
     "text": [
      "    Unnamed: 0         tphys     mass_1      mass_2  kstar_1  kstar_2  \\\n",
      "0            0      0.000000  85.543645   84.997840      1.0      1.0   \n",
      "1            0      3.684610  77.800488   77.381551      2.0      1.0   \n",
      "2            0      3.685755  77.678377   77.385347      2.0      1.0   \n",
      "3            0      3.687375  77.005990   77.861499      4.0      1.0   \n",
      "4            0      3.705707  35.408051  117.801539      4.0      1.0   \n",
      "5            0      3.706977  35.217578  117.857094      7.0      1.0   \n",
      "6            0      4.019729  29.006705  115.513050      7.0      1.0   \n",
      "7            0      4.019729  28.506705  115.513050     14.0      1.0   \n",
      "8            0      4.838291  28.506716   88.892589     14.0      2.0   \n",
      "9            0      4.839772  28.507923   88.694328     14.0      2.0   \n",
      "10           0      4.840763  28.509163   88.466422     14.0      4.0   \n",
      "11           0      4.840763  28.509163   88.466422     14.0      4.0   \n",
      "12           0      4.840763  28.509163   41.985973     14.0      7.0   \n",
      "13           0      4.840763  28.509163   41.985973     14.0      7.0   \n",
      "14           0      5.144393  28.509172   33.558526     14.0      7.0   \n",
      "15           0      5.144393  28.509172   33.058526     14.0     14.0   \n",
      "16           0  13700.000000  28.509172   33.058526     14.0     14.0   \n",
      "\n",
      "            sep        porb       ecc        RRLO_1  ...  B_2  bacc_1  bacc_2  \\\n",
      "0   1363.435508  446.795757  0.448872  3.878791e-02  ...  0.0     0.0     0.0   \n",
      "1   1498.382702  539.616922  0.448872  1.241309e-01  ...  0.0     0.0     0.0   \n",
      "2    826.298851  221.066420  0.000000  1.000141e+00  ...  0.0     0.0     0.0   \n",
      "3    824.771994  220.593591  0.000000  1.934842e+01  ...  0.0     0.0     0.0   \n",
      "4   1478.585685  532.352049  0.000000  4.045230e-01  ...  0.0     0.0     0.0   \n",
      "5   1478.293128  532.428541  0.000000  4.874694e-03  ...  0.0     0.0     0.0   \n",
      "6   1565.818135  597.338532  0.000000  4.874694e-03  ...  0.0     0.0     0.0   \n",
      "7   1571.273196  601.504221  0.003472  2.894731e-07  ...  0.0     0.0     0.0   \n",
      "8   1927.220810  904.975062  0.003472  2.200161e-07  ...  0.0     0.0     0.0   \n",
      "9   1923.362810  903.017165  0.000000  2.195693e-07  ...  0.0     0.0     0.0   \n",
      "10  1922.832123  903.517564  0.000000  2.194876e-07  ...  0.0     0.0     0.0   \n",
      "11  1922.832123  903.517564  0.000000  2.194876e-07  ...  0.0     0.0     0.0   \n",
      "12   354.788609   92.245903  0.000000  2.194876e-07  ...  0.0     0.0     0.0   \n",
      "13   354.788609   92.245903  0.000000  9.848583e-07  ...  0.0     0.0     0.0   \n",
      "14   402.970986  119.000835  0.000000  9.848583e-07  ...  0.0     0.0     0.0   \n",
      "15   406.270365  120.953494  0.008121  8.191935e-07  ...  0.0     0.0     0.0   \n",
      "16   406.018901  120.841214  0.008121  8.197003e-07  ...  0.0     0.0     0.0   \n",
      "\n",
      "    tacc_1  tacc_2   epoch_1   epoch_2  bhspin_1  bhspin_2  bin_num  \n",
      "0      0.0     0.0  0.000000  0.000000       0.0       0.0        0  \n",
      "1      0.0     0.0 -0.072153 -0.071865       0.0       0.0        0  \n",
      "2      0.0     0.0 -0.072153 -0.071802       0.0       0.0        0  \n",
      "3      0.0     0.0 -0.072153 -0.043269       0.0       0.0        0  \n",
      "4      0.0     0.0 -0.072153  1.457648       0.0       0.0        0  \n",
      "5      0.0     0.0  3.690406  1.457861       0.0       0.0        0  \n",
      "6      0.0     0.0  3.671524  1.447976       0.0       0.0        0  \n",
      "7      0.0     0.0  4.019729  1.447976       0.0       0.0        0  \n",
      "8      0.0     0.0  4.019729  1.235297       0.0       0.0        0  \n",
      "9      0.0     0.0  4.019729  1.235297       0.0       0.0        0  \n",
      "10     0.0     0.0  4.019729  1.235297       0.0       0.0        0  \n",
      "11     0.0     0.0  4.019729  1.235297       0.0       0.0        0  \n",
      "12     0.0     0.0  4.019729  1.235297       0.0       0.0        0  \n",
      "13     0.0     0.0  4.019729  4.840763       0.0       0.0        0  \n",
      "14     0.0     0.0  4.019729  4.821639       0.0       0.0        0  \n",
      "15     0.0     0.0  4.019729  5.144393       0.0       0.0        0  \n",
      "16     0.0     0.0  4.019729  5.144393       0.0       0.0        0  \n",
      "\n",
      "[17 rows x 45 columns]\n"
     ]
    }
   ],
   "source": [
    "#read-in files\n",
    "data_file = open('data.csv')\n",
    "data=pd.read_csv(data_file)\n",
    "\n",
    "#print the data\n",
    "print(data)\n",
    "\n",
    "#split data into arrays\n",
    "time =  data['tphys']\n",
    "mass1 = data['mass_1']\n",
    "mass2 = data['mass_2']\n",
    "rad1  = data['rad_1']\n",
    "rad2  = data['rad_2']\n",
    "porb =  data['porb']\n",
    "sep =   data['sep']\n",
    "kstar1= data['kstar_1']\n",
    "kstar2= data['kstar_2']\n",
    "lum1=   data['lum_1']\n",
    "lum2=   data['lum_2']\n",
    "teff1=  data['teff_1']\n",
    "teff2=  data['teff_2']\n"
   ]
  },
  {
   "cell_type": "markdown",
   "metadata": {
    "id": "vr6qR7KrSVil"
   },
   "source": [
    "## Example 1: Mass Over Time"
   ]
  },
  {
   "cell_type": "code",
   "execution_count": 8,
   "metadata": {
    "colab": {
     "base_uri": "https://localhost:8080/",
     "height": 325
    },
    "id": "i8sMJ9TTmqKm",
    "outputId": "c1faed1d-0195-4096-f35a-d2f6016847d1"
   },
   "outputs": [
    {
     "data": {
      "image/png": "[encoded data removed]",
      "text/plain": [
       "<Figure size 720x288 with 2 Axes>"
      ]
     },
     "metadata": {
      "needs_background": "light"
     },
     "output_type": "display_data"
    }
   ],
   "source": [
    "import matplotlib.pyplot as plt \n",
    "%matplotlib inline\n",
    "\n",
    "fig, (ax1,ax2) = plt.subplots(1,2, figsize  = (10,4))\n",
    "\n",
    "ax1.plot(time,mass1, color = 'red', label = 'Mass1')\n",
    "ax2.plot(time,mass2, color = 'green', label = 'Mass2')\n",
    "ax1.set_ylabel(r'$\\rm Mass  \\, [M_{\\odot}]$')\n",
    "ax1.set_xlabel(r'$\\rm Time \\, [Myr]$')\n",
    "ax2.set_xlabel(r'$\\rm Time \\, [Myr]$')\n",
    "ax1.legend()\n",
    "ax2.legend()\n",
    "ax1.set_xlim(0,50)\n",
    "ax2.set_xlim(0,50)\n",
    "plt.show()"
   ]
  },
  {
   "cell_type": "markdown",
   "metadata": {
    "id": "W5KT0OpDSZ3d"
   },
   "source": [
    "## Example 2. Star Radius Over Time"
   ]
  },
  {
   "cell_type": "code",
   "execution_count": 9,
   "metadata": {
    "colab": {
     "base_uri": "https://localhost:8080/",
     "height": 325
    },
    "id": "PTMAe9opIk04",
    "outputId": "7e5242d8-8481-49da-ca93-2dbbded641e1"
   },
   "outputs": [
    {
     "data": {
      "image/png": "[encoded data removed]",
      "text/plain": [
       "<Figure size 720x288 with 2 Axes>"
      ]
     },
     "metadata": {
      "needs_background": "light"
     },
     "output_type": "display_data"
    }
   ],
   "source": [
    "fig, (ax1,ax2) = plt.subplots(1,2, figsize  = (10,4))\n",
    "\n",
    "ax1.plot(time,rad1, color = 'red', label = 'Mass1')\n",
    "ax2.plot(time,rad2, color = 'green', label = 'Mass2')\n",
    "ax1.set_ylabel(r'$\\rm Radius  \\, [R_{\\odot}]$')\n",
    "ax1.set_xlabel(r'$\\rm Time \\, [Myr]$')\n",
    "ax2.set_xlabel(r'$\\rm Time \\, [Myr]$')\n",
    "ax1.legend()\n",
    "ax2.legend()\n",
    "ax1.set_xlim(0,10)\n",
    "ax2.set_xlim(0,10)\n",
    "ax1.set_yscale('log')\n",
    "ax2.set_yscale('log')\n",
    "plt.show()"
   ]
  },
  {
   "cell_type": "markdown",
   "metadata": {
    "id": "s4tA0RDPSi8i"
   },
   "source": [
    "## Example 3: Orbital Period Over Time"
   ]
  },
  {
   "cell_type": "code",
   "execution_count": 10,
   "metadata": {
    "colab": {
     "base_uri": "https://localhost:8080/",
     "height": 312
    },
    "id": "K5YHfI8pJGxV",
    "outputId": "2c426d65-1456-489b-9bd0-88dce87d9672"
   },
   "outputs": [
    {
     "data": {
      "image/png": "[encoded data removed]",
      "text/plain": [
       "<Figure size 720x288 with 1 Axes>"
      ]
     },
     "metadata": {
      "needs_background": "light"
     },
     "output_type": "display_data"
    }
   ],
   "source": [
    "plt.figure(figsize  = (10,4))\n",
    "\n",
    "plt.plot(time,porb, color = 'red')\n",
    "\n",
    "plt.ylabel(r'$\\rm Porb  \\, [days]$')\n",
    "plt.xlabel(r'$\\rm Time \\, [Myr]$')\n",
    "plt.xlim(0,10)\n",
    "plt.show()\n"
   ]
  },
  {
   "cell_type": "markdown",
   "metadata": {
    "id": "89v4CRYlSpXX"
   },
   "source": [
    "## Example 4: Binary Separation Over Time. "
   ]
  },
  {
   "cell_type": "code",
   "execution_count": 11,
   "metadata": {
    "colab": {
     "base_uri": "https://localhost:8080/",
     "height": 295
    },
    "id": "3cvqRLHDJwbn",
    "outputId": "2b00811a-116a-4930-ad13-e4de09e22239"
   },
   "outputs": [
    {
     "data": {
      "image/png": "[encoded data removed]",
      "text/plain": [
       "<Figure size 432x288 with 1 Axes>"
      ]
     },
     "metadata": {
      "needs_background": "light"
     },
     "output_type": "display_data"
    }
   ],
   "source": [
    "plt.plot(time,sep, color = 'red')\n",
    "\n",
    "plt.ylabel(r'$\\rm SMA \\, [AU] $')\n",
    "plt.xlabel(r'$\\rm Time \\, [Myr]$')\n",
    "plt.xlim(0,10)\n",
    "plt.show()"
   ]
  },
  {
   "cell_type": "markdown",
   "metadata": {
    "id": "4D1gfADdYDou"
   },
   "source": [
    "# **Example 4: Calculating the Roche Lobe Radius**\n"
   ]
  },
  {
   "cell_type": "markdown",
   "metadata": {
    "id": "WKZ_pMCdYHfE"
   },
   "source": [
    "WOW! You are at the end of the first section of your project! Congrats 🥳 \n",
    "\n",
    "The aim of today is to understand a bit more about the evolution of binaries. In astronomy, we have defined a radius called the Roche Lobe Radius. This defined the region around a star within which any material is bound to that star. So, if a star in a binary grows to a distance larger than its Roche Lobe Radius during the red giant phase (because the star expands), then some of its material will be \"accretted' by its companion! Pretty cool, right?  \n",
    "\n",
    "You can read more about this [here](https://en.wikipedia.org/wiki/Roche_lobe). Now, using the definiton shown in the image below, write your own function that will calculate the roche radius for a binary with given parameters.\n",
    "\n",
    "\n"
   ]
  },
  {
   "cell_type": "markdown",
   "metadata": {
    "id": "jG0PxLTZYK0Y"
   },
   "source": [
    "![image.png](data:image/png;base64,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)"
   ]
  },
  {
   "cell_type": "markdown",
   "metadata": {
    "id": "2NJmJtnhYQ8z"
   },
   "source": [
    "Now, before you begin, it is very important to be organized when writing a function. As you write your own code, you will find that you will start to forget what a function was initially for, or what input it needs. Furthermore, if you share your code with anyone, it is important that they are able to understand what you wrote. For that reason, at the start of any function, people usually write a short description of what it is for, a list of input parameters with their type (string, float, integer ...) as well as the output. It is great to get in the habit of doing this! You can see an example of it if you run `help(Evolve)` (or any function you want). "
   ]
  },
  {
   "cell_type": "code",
   "execution_count": 12,
   "metadata": {
    "id": "PUrS0Q10YTVe"
   },
   "outputs": [],
   "source": [
    "def r_roche(sep,mass1,mass2):\n",
    "\n",
    "    '''This function will return the Roche lobe radius at a specific time, utlizing \n",
    "    the semi-major axis and stellar masses at that time. This can be used to compare\n",
    "    the Roche lobe radius to the actual radius of a star at a specific time. \n",
    "    If the Roche lobe radius calculated at that time is smaller than the radius of \n",
    "    the star at the point,the star has filled/overfilled its Roche lobe.\n",
    "\n",
    "        Parameters:\n",
    "\n",
    "          m1: the mass of the first star (solar masses)\n",
    "          m2: the mass of the second star (solar masses)\n",
    "          a: the semimajor axis\n",
    "\n",
    "    '''\n",
    "    mass1 = np.array(mass1)\n",
    "    mass2 = np.array(mass2)\n",
    "    a = np.array(sep)\n",
    "    \n",
    "    q = np.array([mass1/mass2])\n",
    "\n",
    "    R = [((0.49*(q**(2/3))))/((0.6*(q**(2/3)))+np.log(1+(q**(1/3))))*a]\n",
    "\n",
    "    return R\n"
   ]
  },
  {
   "cell_type": "code",
   "execution_count": 13,
   "metadata": {
    "id": "urSmRWl4BPg1"
   },
   "outputs": [
    {
     "ename": "NameError",
     "evalue": "name 'np' is not defined",
     "output_type": "error",
     "traceback": [
      "\u001b[0;31m---------------------------------------------------------------------------\u001b[0m",
      "\u001b[0;31mNameError\u001b[0m                                 Traceback (most recent call last)",
      "\u001b[0;32m<ipython-input-13-e1e05340dba2>\u001b[0m in \u001b[0;36m<module>\u001b[0;34m\u001b[0m\n\u001b[1;32m      1\u001b[0m \u001b[0;31m#Running the function:\u001b[0m\u001b[0;34m\u001b[0m\u001b[0;34m\u001b[0m\u001b[0;34m\u001b[0m\u001b[0m\n\u001b[0;32m----> 2\u001b[0;31m \u001b[0mRoche\u001b[0m\u001b[0;34m=\u001b[0m\u001b[0mr_roche\u001b[0m\u001b[0;34m(\u001b[0m\u001b[0msep\u001b[0m\u001b[0;34m,\u001b[0m\u001b[0mmass1\u001b[0m\u001b[0;34m,\u001b[0m\u001b[0mmass2\u001b[0m\u001b[0;34m)\u001b[0m\u001b[0;34m\u001b[0m\u001b[0;34m\u001b[0m\u001b[0m\n\u001b[0m\u001b[1;32m      3\u001b[0m \u001b[0;34m\u001b[0m\u001b[0m\n\u001b[1;32m      4\u001b[0m \u001b[0;31m#Overplotting the Roche Radius\u001b[0m\u001b[0;34m\u001b[0m\u001b[0;34m\u001b[0m\u001b[0;34m\u001b[0m\u001b[0m\n\u001b[1;32m      5\u001b[0m \u001b[0;34m\u001b[0m\u001b[0m\n",
      "\u001b[0;32m<ipython-input-12-0a1eca6c57e2>\u001b[0m in \u001b[0;36mr_roche\u001b[0;34m(sep, mass1, mass2)\u001b[0m\n\u001b[1;32m     14\u001b[0m \u001b[0;34m\u001b[0m\u001b[0m\n\u001b[1;32m     15\u001b[0m     '''\n\u001b[0;32m---> 16\u001b[0;31m     \u001b[0mmass1\u001b[0m \u001b[0;34m=\u001b[0m \u001b[0mnp\u001b[0m\u001b[0;34m.\u001b[0m\u001b[0marray\u001b[0m\u001b[0;34m(\u001b[0m\u001b[0mmass1\u001b[0m\u001b[0;34m)\u001b[0m\u001b[0;34m\u001b[0m\u001b[0;34m\u001b[0m\u001b[0m\n\u001b[0m\u001b[1;32m     17\u001b[0m     \u001b[0mmass2\u001b[0m \u001b[0;34m=\u001b[0m \u001b[0mnp\u001b[0m\u001b[0;34m.\u001b[0m\u001b[0marray\u001b[0m\u001b[0;34m(\u001b[0m\u001b[0mmass2\u001b[0m\u001b[0;34m)\u001b[0m\u001b[0;34m\u001b[0m\u001b[0;34m\u001b[0m\u001b[0m\n\u001b[1;32m     18\u001b[0m     \u001b[0ma\u001b[0m \u001b[0;34m=\u001b[0m \u001b[0mnp\u001b[0m\u001b[0;34m.\u001b[0m\u001b[0marray\u001b[0m\u001b[0;34m(\u001b[0m\u001b[0msep\u001b[0m\u001b[0;34m)\u001b[0m\u001b[0;34m\u001b[0m\u001b[0;34m\u001b[0m\u001b[0m\n",
      "\u001b[0;31mNameError\u001b[0m: name 'np' is not defined"
     ]
    }
   ],
   "source": [
    "#Running the function:\n",
    "Roche=r_roche(sep,mass1,mass2)\n",
    "\n",
    "#Overplotting the Roche Radius\n",
    "\n",
    "fig, (ax1,ax2) =plt.subplots(2)\n",
    "\n",
    "ax1.plot(time,rad1,color='red')\n",
    "ax1.plot(time,Roche[-1][0], color='black',linestyle='--')\n",
    "ax1.set_xlabel('Time [Myr]')\n",
    "ax1.set_ylabel('Radius [Solar radii]')\n",
    "ax1.set_xlim([0,5])\n",
    "ax1.set_yscale('log')\n",
    "ax1.legend(['Mass 1'],loc='upper left')\n",
    "\n",
    "#------------------------------------------\n",
    "ax2.plot(time,rad2,color='green')\n",
    "\n",
    "ax2.plot(time,Roche[-1][0],color='black',linestyle='--')\n",
    "ax2.set_xlabel('Time [Myr]')\n",
    "ax2.set_ylabel('Radius [Solar radii]')\n",
    "ax2.set_xlim([0,5])\n",
    "ax2.set_yscale('log')\n",
    "ax2.legend(['Mass 2'],loc='upper left')\n"
   ]
  }
 ],
 "metadata": {
  "colab": {
   "collapsed_sections": [
    "amTxJGpVLuK9",
    "vr6qR7KrSVil",
    "W5KT0OpDSZ3d",
    "s4tA0RDPSi8i",
    "89v4CRYlSpXX",
    "oeAd5aNJu5qI",
    "4D1gfADdYDou"
   ],
   "provenance": []
  },
  "kernelspec": {
   "display_name": "cosmic_test",
   "language": "python",
   "name": "cosmic_test"
  },
  "language_info": {
   "codemirror_mode": {
    "name": "ipython",
    "version": 3
   },
   "file_extension": ".py",
   "mimetype": "text/x-python",
   "name": "python",
   "nbconvert_exporter": "python",
   "pygments_lexer": "ipython3",
   "version": "3.9.13"
  }
 },
 "nbformat": 4,
 "nbformat_minor": 1
}
